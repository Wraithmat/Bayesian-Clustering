{
 "cells": [
  {
   "cell_type": "code",
   "execution_count": 2,
   "metadata": {},
   "outputs": [],
   "source": [
    "from scipy.stats import beta\n",
    "import numpy as np"
   ]
  },
  {
   "cell_type": "code",
   "execution_count": 35,
   "metadata": {},
   "outputs": [
    {
     "name": "stdout",
     "output_type": "stream",
     "text": [
      "[0.00000000e+00 6.59464824e-04 6.64698891e-03 2.56800472e-02\n",
      " 6.69974500e-02 1.40958623e-01 2.58838656e-01 4.32698213e-01\n",
      " 6.75291980e-01 1.00000000e+00] [0.00000000e+00 6.59464824e-04 6.64698891e-03 2.56800472e-02\n",
      " 6.69974500e-02 1.40958623e-01 2.58838656e-01 4.32698213e-01\n",
      " 6.75291980e-01 1.00000000e+00]\n"
     ]
    },
    {
     "data": {
      "text/plain": [
       "array([0.        , 0.11111111, 0.22222222, 0.33333333, 0.44444444,\n",
       "       0.55555556, 0.66666667, 0.77777778, 0.88888889, 1.        ])"
      ]
     },
     "execution_count": 35,
     "metadata": {},
     "output_type": "execute_result"
    }
   ],
   "source": [
    "print((np.arange(10)/9)**(1/0.3), np.linspace(0,1,10)**(1/0.3))\n",
    "beta.cdf((np.arange(10)/9)**(1/0.3),0.3,1)"
   ]
  },
  {
   "cell_type": "code",
   "execution_count": 29,
   "metadata": {},
   "outputs": [
    {
     "data": {
      "image/png": "[encoded data removed]",
      "text/plain": [
       "<Figure size 432x288 with 1 Axes>"
      ]
     },
     "metadata": {
      "needs_background": "light"
     },
     "output_type": "display_data"
    },
    {
     "data": {
      "text/plain": [
       "[<matplotlib.lines.Line2D at 0x7fac02972340>]"
      ]
     },
     "execution_count": 29,
     "metadata": {},
     "output_type": "execute_result"
    },
    {
     "data": {
      "image/png": "[encoded data removed]",
      "text/plain": [
       "<Figure size 432x288 with 1 Axes>"
      ]
     },
     "metadata": {
      "needs_background": "light"
     },
     "output_type": "display_data"
    }
   ],
   "source": [
    "import matplotlib.pyplot as plt\n",
    "\n",
    "plt.plot(np.arange(10)/10, beta.cdf(np.arange(10)/9, 1, 0.3))\n",
    "plt.show()\n",
    "plt.plot(beta.pdf(np.linspace(0,1), 0.3, 1))"
   ]
  },
  {
   "cell_type": "code",
   "execution_count": 14,
   "metadata": {},
   "outputs": [
    {
     "data": {
      "text/plain": [
       "(array([-0.09090909, -0.08264463, -0.07513148, -0.06830135, -0.06209213,\n",
       "        -0.05644739, -0.05131581, -0.04665074, -0.04240976, -0.03855433]),\n",
       " [1,\n",
       "  0.9090909090909091,\n",
       "  0.8264462809917354,\n",
       "  0.7513148009015777,\n",
       "  0.6830134553650705,\n",
       "  0.6209213230591549,\n",
       "  0.5644739300537771,\n",
       "  0.5131581182307065,\n",
       "  0.4665073802097331,\n",
       "  0.4240976183724846,\n",
       "  0.3855432894295314])"
      ]
     },
     "execution_count": 14,
     "metadata": {},
     "output_type": "execute_result"
    }
   ],
   "source": [
    "xi=[1]\n",
    "for i in range(10):\n",
    "    xi.append(xi[-1]/1.1)\n",
    "np.diff(xi), xi"
   ]
  },
  {
   "cell_type": "code",
   "execution_count": 44,
   "metadata": {},
   "outputs": [],
   "source": [
    "        dictionary={}\n",
    "        betas=np.linspace(0,1,10)**(1/0.3)\n",
    "        dictionary.update({'pi_%.4f'%i:[0.1,2,2] for i in betas})\n"
   ]
  },
  {
   "cell_type": "code",
   "execution_count": 45,
   "metadata": {},
   "outputs": [
    {
     "data": {
      "text/plain": [
       "dict_keys(['pi_0.0000', 'pi_0.0007', 'pi_0.0066', 'pi_0.0257', 'pi_0.0670', 'pi_0.1410', 'pi_0.2588', 'pi_0.4327', 'pi_0.6753', 'pi_1.0000'])"
      ]
     },
     "execution_count": 45,
     "metadata": {},
     "output_type": "execute_result"
    }
   ],
   "source": [
    "dictionary.keys()"
   ]
  },
  {
   "cell_type": "code",
   "execution_count": 43,
   "metadata": {},
   "outputs": [
    {
     "data": {
      "text/plain": [
       "array([0.00000000e+00, 6.59464824e-04, 6.64698891e-03, 2.56800472e-02,\n",
       "       6.69974500e-02, 1.40958623e-01, 2.58838656e-01, 4.32698213e-01,\n",
       "       6.75291980e-01, 1.00000000e+00])"
      ]
     },
     "execution_count": 43,
     "metadata": {},
     "output_type": "execute_result"
    }
   ],
   "source": [
    "np.linspace(0,1,10)**(1/0.3)"
   ]
  },
  {
   "cell_type": "code",
   "execution_count": null,
   "metadata": {},
   "outputs": [],
   "source": []
  }
 ],
 "metadata": {
  "kernelspec": {
   "display_name": "base",
   "language": "python",
   "name": "python3"
  },
  "language_info": {
   "codemirror_mode": {
    "name": "ipython",
    "version": 3
   },
   "file_extension": ".py",
   "mimetype": "text/x-python",
   "name": "python",
   "nbconvert_exporter": "python",
   "pygments_lexer": "ipython3",
   "version": "3.9.12"
  }
 },
 "nbformat": 4,
 "nbformat_minor": 2
}
